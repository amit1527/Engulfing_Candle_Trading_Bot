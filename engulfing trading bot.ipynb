{
 "cells": [
  {
   "cell_type": "code",
   "execution_count": 2,
   "id": "c0f4eead",
   "metadata": {},
   "outputs": [],
   "source": [
    "\n",
    "import pandas as pd"
   ]
  },
  {
   "cell_type": "code",
   "execution_count": 3,
   "id": "534e819d",
   "metadata": {},
   "outputs": [],
   "source": [
    "def signal_generator(df):\n",
    "    open = df.Open.iloc[-1]\n",
    "    close = df.Close.iloc[-1]\n",
    "    Pre_open = df.Open.iloc[-2]\n",
    "    Pre_close = df.Close.iloc[-2]\n",
    "\n",
    "    #Bearish Signal\n",
    "    if (open > close and Pre_close>Pre_open and\n",
    "        close < Pre_open and Pre_close<=open):\n",
    "        return 1\n",
    "    \n",
    "    #Bullish signal\n",
    "    elif (\n",
    "        close>open and Pre_close<Pre_open and\n",
    "        Pre_open<close and Pre_close>= open):\n",
    "        return 2\n",
    "    \n",
    "    #no signal\n",
    "    else:\n",
    "        return 0\n"
   ]
  },
  {
   "cell_type": "code",
   "execution_count": 14,
   "id": "b9503b63",
   "metadata": {},
   "outputs": [],
   "source": [
    "from alpaca.trading.client import TradingClient\n",
    "from alpaca.trading.requests import MarketOrderRequest, TakeProfitRequest, StopLossRequest\n",
    "from alpaca.trading.enums import OrderSide, TimeInForce, OrderClass\n",
    "from alpaca.data.historical import StockHistoricalDataClient\n",
    "from alpaca.data.requests import StockBarsRequest\n",
    "from alpaca.data.timeframe import TimeFrame\n",
    "from datetime import datetime\n",
    "\n",
    "API_KEY = 'your api key'\n",
    "SECRET_KEY = 'your secret key'\n",
    "client = TradingClient(API_KEY, SECRET_KEY)"
   ]
  },
  {
   "cell_type": "code",
   "execution_count": 34,
   "id": "b2a3979f",
   "metadata": {},
   "outputs": [
    {
     "name": "stderr",
     "output_type": "stream",
     "text": [
      "C:\\Users\\AMIT\\AppData\\Local\\Temp\\ipykernel_16288\\3964695889.py:16: FutureWarning: 'T' is deprecated and will be removed in a future version, please use 'min' instead.\n",
      "  candles = df.resample('15T').agg({\n"
     ]
    },
    {
     "data": {
      "text/html": [
       "<div>\n",
       "<style scoped>\n",
       "    .dataframe tbody tr th:only-of-type {\n",
       "        vertical-align: middle;\n",
       "    }\n",
       "\n",
       "    .dataframe tbody tr th {\n",
       "        vertical-align: top;\n",
       "    }\n",
       "\n",
       "    .dataframe thead th {\n",
       "        text-align: right;\n",
       "    }\n",
       "</style>\n",
       "<table border=\"1\" class=\"dataframe\">\n",
       "  <thead>\n",
       "    <tr style=\"text-align: right;\">\n",
       "      <th></th>\n",
       "      <th>open</th>\n",
       "      <th>high</th>\n",
       "      <th>low</th>\n",
       "      <th>close</th>\n",
       "      <th>volume</th>\n",
       "    </tr>\n",
       "    <tr>\n",
       "      <th>timestamp</th>\n",
       "      <th></th>\n",
       "      <th></th>\n",
       "      <th></th>\n",
       "      <th></th>\n",
       "      <th></th>\n",
       "    </tr>\n",
       "  </thead>\n",
       "  <tbody>\n",
       "    <tr>\n",
       "      <th>2025-07-08 13:30:00+00:00</th>\n",
       "      <td>210.01</td>\n",
       "      <td>210.455</td>\n",
       "      <td>209.70</td>\n",
       "      <td>209.86</td>\n",
       "      <td>21212.0</td>\n",
       "    </tr>\n",
       "    <tr>\n",
       "      <th>2025-07-07 19:45:00+00:00</th>\n",
       "      <td>209.45</td>\n",
       "      <td>210.170</td>\n",
       "      <td>209.34</td>\n",
       "      <td>209.94</td>\n",
       "      <td>86714.0</td>\n",
       "    </tr>\n",
       "    <tr>\n",
       "      <th>2025-07-07 19:30:00+00:00</th>\n",
       "      <td>209.47</td>\n",
       "      <td>209.550</td>\n",
       "      <td>209.22</td>\n",
       "      <td>209.43</td>\n",
       "      <td>44900.0</td>\n",
       "    </tr>\n",
       "  </tbody>\n",
       "</table>\n",
       "</div>"
      ],
      "text/plain": [
       "                             open     high     low   close   volume\n",
       "timestamp                                                          \n",
       "2025-07-08 13:30:00+00:00  210.01  210.455  209.70  209.86  21212.0\n",
       "2025-07-07 19:45:00+00:00  209.45  210.170  209.34  209.94  86714.0\n",
       "2025-07-07 19:30:00+00:00  209.47  209.550  209.22  209.43  44900.0"
      ]
     },
     "execution_count": 34,
     "metadata": {},
     "output_type": "execute_result"
    }
   ],
   "source": [
    "\n",
    "def get_candle(n):\n",
    "    data_client = StockHistoricalDataClient(API_KEY, SECRET_KEY)\n",
    "    request_para = StockBarsRequest(\n",
    "        symbol_or_symbols='AAPL',\n",
    "        feed= 'iex',\n",
    "        timeframe=TimeFrame.Minute ,\n",
    "        start=datetime(2025, 1,1),\n",
    "        end=datetime.now()\n",
    "    )\n",
    "\n",
    "    bars = data_client.get_stock_bars(request_para)\n",
    "    df = bars.df.reset_index()\n",
    "    df = df.drop('symbol', axis=1)\n",
    "    df['timestamp'] = pd.to_datetime(df['timestamp'])\n",
    "    df = df.set_index('timestamp')\n",
    "    candles = df.resample('15T').agg({\n",
    "        'open': 'first',\n",
    "        'high' : 'max',\n",
    "        'low':'min',\n",
    "        'close':'last',\n",
    "        'volume':'sum',\n",
    "    }).dropna()\n",
    "    return candles.sort_values(by='timestamp', ascending=False).head(n)\n",
    "candle = get_candle(3)\n",
    "candle"
   ]
  },
  {
   "cell_type": "code",
   "execution_count": null,
   "id": "3eeba50f",
   "metadata": {},
   "outputs": [
    {
     "name": "stderr",
     "output_type": "stream",
     "text": [
      "C:\\Users\\AMIT\\AppData\\Local\\Temp\\ipykernel_16288\\3964695889.py:16: FutureWarning: 'T' is deprecated and will be removed in a future version, please use 'min' instead.\n",
      "  candles = df.resample('15T').agg({\n"
     ]
    },
    {
     "name": "stdout",
     "output_type": "stream",
     "text": [
      "                             Open   Close     High     Low\n",
      "timestamp                                                 \n",
      "2025-07-08 13:30:00+00:00  210.01  209.02  210.455  208.51\n",
      "2025-07-07 19:45:00+00:00  209.45  209.94  210.170  209.34\n",
      "TPbuy : 212.91   SLbuy: 207.08   TPsell : 205.13   SLsell : 210.97\n"
     ]
    },
    {
     "name": "stderr",
     "output_type": "stream",
     "text": [
      "C:\\Users\\AMIT\\AppData\\Local\\Temp\\ipykernel_16288\\3964695889.py:16: FutureWarning: 'T' is deprecated and will be removed in a future version, please use 'min' instead.\n",
      "  candles = df.resample('15T').agg({\n"
     ]
    },
    {
     "name": "stdout",
     "output_type": "stream",
     "text": [
      "                             Open   Close     High     Low\n",
      "timestamp                                                 \n",
      "2025-07-08 13:30:00+00:00  210.01  209.02  210.455  208.51\n",
      "2025-07-07 19:45:00+00:00  209.45  209.94  210.170  209.34\n",
      "TPbuy : 212.91   SLbuy: 207.08   TPsell : 205.13   SLsell : 210.97\n"
     ]
    },
    {
     "name": "stderr",
     "output_type": "stream",
     "text": [
      "C:\\Users\\AMIT\\AppData\\Local\\Temp\\ipykernel_16288\\3964695889.py:16: FutureWarning: 'T' is deprecated and will be removed in a future version, please use 'min' instead.\n",
      "  candles = df.resample('15T').agg({\n"
     ]
    },
    {
     "name": "stdout",
     "output_type": "stream",
     "text": [
      "                             Open   Close     High     Low\n",
      "timestamp                                                 \n",
      "2025-07-08 13:30:00+00:00  210.01  209.02  210.455  208.51\n",
      "2025-07-07 19:45:00+00:00  209.45  209.94  210.170  209.34\n",
      "TPbuy : 212.91   SLbuy: 207.08   TPsell : 205.13   SLsell : 210.97\n"
     ]
    }
   ],
   "source": [
    "def trading_job():\n",
    "    candle = get_candle(3)\n",
    "\n",
    "    new_df = pd.DataFrame({\n",
    "        'Open' : candle['open'][:3],\n",
    "        'Close' : candle['close'][:3],\n",
    "        'High' : candle['high'][:3],\n",
    "        'Low' : candle['low'][:3],\n",
    "    })\n",
    "\n",
    "    new_df['Open'] = new_df['Open'].astype(float)\n",
    "    new_df['Close'] = new_df['Close'].astype(float)\n",
    "    new_df['High'] = new_df['High'].astype(float)\n",
    "    new_df['Low'] = new_df['Low'].astype(float)\n",
    "\n",
    "    signal = signal_generator(new_df.iloc[1:,:])\n",
    "    \n",
    "    pnl_Ratio = 2\n",
    "    pre_candleR = abs(new_df['High'].iloc[1]- new_df['Low'].iloc[1])\n",
    "\n",
    "    SLbuy = new_df['Open'].iloc[0] - pre_candleR\n",
    "    SLbuy = round(SLbuy,2)\n",
    "    SLsell = new_df['Open'].iloc[0] + pre_candleR\n",
    "\n",
    "    TPbuy = new_df['Open'].iloc[0] + pre_candleR*pnl_Ratio\n",
    "    TPsell = new_df['Open'].iloc[0] - pre_candleR*pnl_Ratio\n",
    "    TPbuy = round(TPbuy,2)\n",
    "    TPsell = round(TPsell,2)\n",
    "    SLsell = round(SLsell,2)\n",
    "\n",
    "    print(new_df.iloc[1:,:])\n",
    "    print(f\"TPbuy : {TPbuy}\", \" \", f\"SLbuy: {SLbuy}\", \" \", f\"TPsell : {TPsell}\", \" \", f\"SLsell : {SLsell}\")\n",
    "    #sell\n",
    "    if signal == 1:\n",
    "        mo= MarketOrderRequest(\n",
    "                    symbol=\"AAPL\",\n",
    "                    qty=100,\n",
    "                    side=OrderSide.SELL,\n",
    "                    time_in_force=TimeInForce.DAY,\n",
    "                    order_class=OrderClass.BRACKET,\n",
    "                    take_profit=TakeProfitRequest(limit_price = TPsell),\n",
    "                    stop_loss=StopLossRequest(stop_price=SLsell)\n",
    "                    )\n",
    "\n",
    "        bracket_order = client.submit_order(order_data=mo)\n",
    "    \n",
    "    #Buy\n",
    "    elif signal == 2:\n",
    "        mo= MarketOrderRequest(\n",
    "                    symbol=\"AAPL\",\n",
    "                    qty=100,\n",
    "                    side=OrderSide.BUY,\n",
    "                    time_in_force=TimeInForce.DAY,\n",
    "                    order_class=OrderClass.BRACKET,\n",
    "                    take_profit=TakeProfitRequest(limit_price=TPbuy),\n",
    "                    stop_loss=StopLossRequest(stop_price=SLbuy)\n",
    "                    )\n",
    "\n",
    "        bracket_order = client.submit_order(order_data=mo)\n",
    "\n",
    "import time\n",
    "\n",
    "while True:\n",
    "    try:\n",
    "        trading_job()\n",
    "    except Exception as e:\n",
    "        print(\"Error:\", e)\n",
    "    \n",
    "    time.sleep(60)  # Run every 60 seconds\n",
    "\n",
    "\n"
   ]
  }
 ],
 "metadata": {
  "kernelspec": {
   "display_name": "Python 3",
   "language": "python",
   "name": "python3"
  },
  "language_info": {
   "codemirror_mode": {
    "name": "ipython",
    "version": 3
   },
   "file_extension": ".py",
   "mimetype": "text/x-python",
   "name": "python",
   "nbconvert_exporter": "python",
   "pygments_lexer": "ipython3",
   "version": "3.13.5"
  }
 },
 "nbformat": 4,
 "nbformat_minor": 5
}
