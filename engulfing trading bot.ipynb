{
 "cells": [
  {
   "cell_type": "code",
   "execution_count": 1,
   "id": "c0f4eead",
   "metadata": {},
   "outputs": [],
   "source": [
    "\n",
    "import pandas as pd"
   ]
  },
  {
   "cell_type": "code",
   "execution_count": 2,
   "id": "534e819d",
   "metadata": {},
   "outputs": [],
   "source": [
    "def signal_generator(df):\n",
    "    open = df.Open.iloc[-1]\n",
    "    close = df.Close.iloc[-1]\n",
    "    Pre_open = df.Open.iloc[-2]\n",
    "    Pre_close = df.Close.iloc[-2]\n",
    "\n",
    "    #Bearish Signal\n",
    "    if (open > close and Pre_close>Pre_open and\n",
    "        close < Pre_open and Pre_close<=open):\n",
    "        return 1\n",
    "    \n",
    "    #Bullish signal\n",
    "    elif (\n",
    "        close>open and Pre_close<Pre_open and\n",
    "        Pre_open<close and Pre_close>= open):\n",
    "        return 2\n",
    "    \n",
    "    #no signal\n",
    "    else:\n",
    "        return 0\n"
   ]
  },
  {
   "cell_type": "code",
   "execution_count": 3,
   "id": "b9503b63",
   "metadata": {},
   "outputs": [],
   "source": [
    "from alpaca.trading.client import TradingClient\n",
    "from alpaca.trading.requests import MarketOrderRequest\n",
    "from alpaca.trading.enums import OrderSide, TimeInForce\n",
    "from alpaca.data.historical import StockHistoricalDataClient\n",
    "from alpaca.data.requests import StockBarsRequest\n",
    "from alpaca.data.timeframe import TimeFrame\n",
    "from datetime import datetime\n",
    "\n",
    "API_KEY = 'your_api_key'\n",
    "SECRET_KEY = 'your_secret_key'"
   ]
  },
  {
   "cell_type": "code",
   "execution_count": 25,
   "id": "b2a3979f",
   "metadata": {},
   "outputs": [
    {
     "name": "stderr",
     "output_type": "stream",
     "text": [
      "C:\\Users\\AMIT\\AppData\\Local\\Temp\\ipykernel_3832\\1673101615.py:16: FutureWarning: 'T' is deprecated and will be removed in a future version, please use 'min' instead.\n",
      "  candles = df.resample('15T').agg({\n"
     ]
    },
    {
     "data": {
      "text/html": [
       "<div>\n",
       "<style scoped>\n",
       "    .dataframe tbody tr th:only-of-type {\n",
       "        vertical-align: middle;\n",
       "    }\n",
       "\n",
       "    .dataframe tbody tr th {\n",
       "        vertical-align: top;\n",
       "    }\n",
       "\n",
       "    .dataframe thead th {\n",
       "        text-align: right;\n",
       "    }\n",
       "</style>\n",
       "<table border=\"1\" class=\"dataframe\">\n",
       "  <thead>\n",
       "    <tr style=\"text-align: right;\">\n",
       "      <th></th>\n",
       "      <th>open</th>\n",
       "      <th>high</th>\n",
       "      <th>low</th>\n",
       "      <th>close</th>\n",
       "      <th>volume</th>\n",
       "    </tr>\n",
       "    <tr>\n",
       "      <th>timestamp</th>\n",
       "      <th></th>\n",
       "      <th></th>\n",
       "      <th></th>\n",
       "      <th></th>\n",
       "      <th></th>\n",
       "    </tr>\n",
       "  </thead>\n",
       "  <tbody>\n",
       "    <tr>\n",
       "      <th>2025-06-30 23:45:00+00:00</th>\n",
       "      <td>205.80</td>\n",
       "      <td>205.856</td>\n",
       "      <td>205.44</td>\n",
       "      <td>205.4400</td>\n",
       "      <td>42801.0</td>\n",
       "    </tr>\n",
       "    <tr>\n",
       "      <th>2025-06-30 23:30:00+00:00</th>\n",
       "      <td>205.50</td>\n",
       "      <td>205.960</td>\n",
       "      <td>205.50</td>\n",
       "      <td>205.8800</td>\n",
       "      <td>72721.0</td>\n",
       "    </tr>\n",
       "    <tr>\n",
       "      <th>2025-06-30 23:15:00+00:00</th>\n",
       "      <td>205.42</td>\n",
       "      <td>205.600</td>\n",
       "      <td>205.28</td>\n",
       "      <td>205.5467</td>\n",
       "      <td>32861.0</td>\n",
       "    </tr>\n",
       "  </tbody>\n",
       "</table>\n",
       "</div>"
      ],
      "text/plain": [
       "                             open     high     low     close   volume\n",
       "timestamp                                                            \n",
       "2025-06-30 23:45:00+00:00  205.80  205.856  205.44  205.4400  42801.0\n",
       "2025-06-30 23:30:00+00:00  205.50  205.960  205.50  205.8800  72721.0\n",
       "2025-06-30 23:15:00+00:00  205.42  205.600  205.28  205.5467  32861.0"
      ]
     },
     "execution_count": 25,
     "metadata": {},
     "output_type": "execute_result"
    }
   ],
   "source": [
    "def get_candle(n):\n",
    "    client = TradingClient(API_KEY, SECRET_KEY)\n",
    "    data_client = StockHistoricalDataClient(API_KEY, SECRET_KEY)\n",
    "    request_para = StockBarsRequest(\n",
    "        symbol_or_symbols='AAPL',\n",
    "        timeframe=TimeFrame.Minute ,\n",
    "        start=datetime(2025, 1,1),\n",
    "        end=datetime(2025, 7,1)\n",
    "    )\n",
    "\n",
    "    bars = data_client.get_stock_bars(request_para)\n",
    "    df = bars.df.reset_index()\n",
    "    df = df.drop('symbol', axis=1)\n",
    "    df['timestamp'] = pd.to_datetime(df['timestamp'])\n",
    "    df = df.set_index('timestamp')\n",
    "    candles = df.resample('15T').agg({\n",
    "        'open': 'first',\n",
    "        'high' : 'max',\n",
    "        'low':'min',\n",
    "        'close':'last',\n",
    "        'volume':'sum',\n",
    "    }).dropna()\n",
    "    return candles.sort_values(by='timestamp', ascending=False).head(n)\n",
    "candle = get_candle(3)\n",
    "candle"
   ]
  },
  {
   "cell_type": "code",
   "execution_count": 42,
   "id": "3eeba50f",
   "metadata": {},
   "outputs": [
    {
     "name": "stderr",
     "output_type": "stream",
     "text": [
      "C:\\Users\\AMIT\\AppData\\Local\\Temp\\ipykernel_3832\\1673101615.py:16: FutureWarning: 'T' is deprecated and will be removed in a future version, please use 'min' instead.\n",
      "  candles = df.resample('15T').agg({\n"
     ]
    },
    {
     "ename": "InvalidIndexError",
     "evalue": "(slice(None, -1, None), slice(None, None, None))",
     "output_type": "error",
     "traceback": [
      "\u001b[31m---------------------------------------------------------------------------\u001b[39m",
      "\u001b[31mKeyError\u001b[39m                                  Traceback (most recent call last)",
      "\u001b[36mFile \u001b[39m\u001b[32m~\\AppData\\Local\\Packages\\PythonSoftwareFoundation.Python.3.13_qbz5n2kfra8p0\\LocalCache\\local-packages\\Python313\\site-packages\\pandas\\core\\indexes\\base.py:3805\u001b[39m, in \u001b[36mIndex.get_loc\u001b[39m\u001b[34m(self, key)\u001b[39m\n\u001b[32m   3804\u001b[39m \u001b[38;5;28;01mtry\u001b[39;00m:\n\u001b[32m-> \u001b[39m\u001b[32m3805\u001b[39m     \u001b[38;5;28;01mreturn\u001b[39;00m \u001b[38;5;28;43mself\u001b[39;49m\u001b[43m.\u001b[49m\u001b[43m_engine\u001b[49m\u001b[43m.\u001b[49m\u001b[43mget_loc\u001b[49m\u001b[43m(\u001b[49m\u001b[43mcasted_key\u001b[49m\u001b[43m)\u001b[49m\n\u001b[32m   3806\u001b[39m \u001b[38;5;28;01mexcept\u001b[39;00m \u001b[38;5;167;01mKeyError\u001b[39;00m \u001b[38;5;28;01mas\u001b[39;00m err:\n",
      "\u001b[36mFile \u001b[39m\u001b[32mindex.pyx:167\u001b[39m, in \u001b[36mpandas._libs.index.IndexEngine.get_loc\u001b[39m\u001b[34m()\u001b[39m\n",
      "\u001b[36mFile \u001b[39m\u001b[32mindex.pyx:196\u001b[39m, in \u001b[36mpandas._libs.index.IndexEngine.get_loc\u001b[39m\u001b[34m()\u001b[39m\n",
      "\u001b[36mFile \u001b[39m\u001b[32mpandas\\\\_libs\\\\hashtable_class_helper.pxi:7081\u001b[39m, in \u001b[36mpandas._libs.hashtable.PyObjectHashTable.get_item\u001b[39m\u001b[34m()\u001b[39m\n",
      "\u001b[36mFile \u001b[39m\u001b[32mpandas\\\\_libs\\\\hashtable_class_helper.pxi:7089\u001b[39m, in \u001b[36mpandas._libs.hashtable.PyObjectHashTable.get_item\u001b[39m\u001b[34m()\u001b[39m\n",
      "\u001b[31mKeyError\u001b[39m: (slice(None, -1, None), slice(None, None, None))",
      "\nDuring handling of the above exception, another exception occurred:\n",
      "\u001b[31mInvalidIndexError\u001b[39m                         Traceback (most recent call last)",
      "\u001b[36mCell\u001b[39m\u001b[36m \u001b[39m\u001b[32mIn[42]\u001b[39m\u001b[32m, line 29\u001b[39m\n\u001b[32m     27\u001b[39m     \u001b[38;5;28mprint\u001b[39m(new_df[:-\u001b[32m1\u001b[39m,:])\n\u001b[32m     28\u001b[39m     \u001b[38;5;28mprint\u001b[39m(TPbuy, \u001b[33m\"\u001b[39m\u001b[33m \u001b[39m\u001b[33m\"\u001b[39m, SLbuy, \u001b[33m\"\u001b[39m\u001b[33m \u001b[39m\u001b[33m\"\u001b[39m, TPsell, \u001b[33m\"\u001b[39m\u001b[33m \u001b[39m\u001b[33m\"\u001b[39m, SLsell)\n\u001b[32m---> \u001b[39m\u001b[32m29\u001b[39m \u001b[43mtrading_job\u001b[49m\u001b[43m(\u001b[49m\u001b[43m)\u001b[49m\n",
      "\u001b[36mCell\u001b[39m\u001b[36m \u001b[39m\u001b[32mIn[42]\u001b[39m\u001b[32m, line 27\u001b[39m, in \u001b[36mtrading_job\u001b[39m\u001b[34m()\u001b[39m\n\u001b[32m     24\u001b[39m TPbuy = new_df[\u001b[33m'\u001b[39m\u001b[33mOpen\u001b[39m\u001b[33m'\u001b[39m].iloc[\u001b[32m0\u001b[39m] + pre_candleR*pnl_Ratio\n\u001b[32m     25\u001b[39m TPsell = new_df[\u001b[33m'\u001b[39m\u001b[33mOpen\u001b[39m\u001b[33m'\u001b[39m].iloc[\u001b[32m0\u001b[39m] - pre_candleR*pnl_Ratio\n\u001b[32m---> \u001b[39m\u001b[32m27\u001b[39m \u001b[38;5;28mprint\u001b[39m(\u001b[43mnew_df\u001b[49m\u001b[43m[\u001b[49m\u001b[43m:\u001b[49m\u001b[43m-\u001b[49m\u001b[32;43m1\u001b[39;49m\u001b[43m,\u001b[49m\u001b[43m:\u001b[49m\u001b[43m]\u001b[49m)\n\u001b[32m     28\u001b[39m \u001b[38;5;28mprint\u001b[39m(TPbuy, \u001b[33m\"\u001b[39m\u001b[33m \u001b[39m\u001b[33m\"\u001b[39m, SLbuy, \u001b[33m\"\u001b[39m\u001b[33m \u001b[39m\u001b[33m\"\u001b[39m, TPsell, \u001b[33m\"\u001b[39m\u001b[33m \u001b[39m\u001b[33m\"\u001b[39m, SLsell)\n",
      "\u001b[36mFile \u001b[39m\u001b[32m~\\AppData\\Local\\Packages\\PythonSoftwareFoundation.Python.3.13_qbz5n2kfra8p0\\LocalCache\\local-packages\\Python313\\site-packages\\pandas\\core\\frame.py:4102\u001b[39m, in \u001b[36mDataFrame.__getitem__\u001b[39m\u001b[34m(self, key)\u001b[39m\n\u001b[32m   4100\u001b[39m \u001b[38;5;28;01mif\u001b[39;00m \u001b[38;5;28mself\u001b[39m.columns.nlevels > \u001b[32m1\u001b[39m:\n\u001b[32m   4101\u001b[39m     \u001b[38;5;28;01mreturn\u001b[39;00m \u001b[38;5;28mself\u001b[39m._getitem_multilevel(key)\n\u001b[32m-> \u001b[39m\u001b[32m4102\u001b[39m indexer = \u001b[38;5;28;43mself\u001b[39;49m\u001b[43m.\u001b[49m\u001b[43mcolumns\u001b[49m\u001b[43m.\u001b[49m\u001b[43mget_loc\u001b[49m\u001b[43m(\u001b[49m\u001b[43mkey\u001b[49m\u001b[43m)\u001b[49m\n\u001b[32m   4103\u001b[39m \u001b[38;5;28;01mif\u001b[39;00m is_integer(indexer):\n\u001b[32m   4104\u001b[39m     indexer = [indexer]\n",
      "\u001b[36mFile \u001b[39m\u001b[32m~\\AppData\\Local\\Packages\\PythonSoftwareFoundation.Python.3.13_qbz5n2kfra8p0\\LocalCache\\local-packages\\Python313\\site-packages\\pandas\\core\\indexes\\base.py:3811\u001b[39m, in \u001b[36mIndex.get_loc\u001b[39m\u001b[34m(self, key)\u001b[39m\n\u001b[32m   3806\u001b[39m \u001b[38;5;28;01mexcept\u001b[39;00m \u001b[38;5;167;01mKeyError\u001b[39;00m \u001b[38;5;28;01mas\u001b[39;00m err:\n\u001b[32m   3807\u001b[39m     \u001b[38;5;28;01mif\u001b[39;00m \u001b[38;5;28misinstance\u001b[39m(casted_key, \u001b[38;5;28mslice\u001b[39m) \u001b[38;5;129;01mor\u001b[39;00m (\n\u001b[32m   3808\u001b[39m         \u001b[38;5;28misinstance\u001b[39m(casted_key, abc.Iterable)\n\u001b[32m   3809\u001b[39m         \u001b[38;5;129;01mand\u001b[39;00m \u001b[38;5;28many\u001b[39m(\u001b[38;5;28misinstance\u001b[39m(x, \u001b[38;5;28mslice\u001b[39m) \u001b[38;5;28;01mfor\u001b[39;00m x \u001b[38;5;129;01min\u001b[39;00m casted_key)\n\u001b[32m   3810\u001b[39m     ):\n\u001b[32m-> \u001b[39m\u001b[32m3811\u001b[39m         \u001b[38;5;28;01mraise\u001b[39;00m InvalidIndexError(key)\n\u001b[32m   3812\u001b[39m     \u001b[38;5;28;01mraise\u001b[39;00m \u001b[38;5;167;01mKeyError\u001b[39;00m(key) \u001b[38;5;28;01mfrom\u001b[39;00m\u001b[38;5;250m \u001b[39m\u001b[34;01merr\u001b[39;00m\n\u001b[32m   3813\u001b[39m \u001b[38;5;28;01mexcept\u001b[39;00m \u001b[38;5;167;01mTypeError\u001b[39;00m:\n\u001b[32m   3814\u001b[39m     \u001b[38;5;66;03m# If we have a listlike key, _check_indexing_error will raise\u001b[39;00m\n\u001b[32m   3815\u001b[39m     \u001b[38;5;66;03m#  InvalidIndexError. Otherwise we fall through and re-raise\u001b[39;00m\n\u001b[32m   3816\u001b[39m     \u001b[38;5;66;03m#  the TypeError.\u001b[39;00m\n",
      "\u001b[31mInvalidIndexError\u001b[39m: (slice(None, -1, None), slice(None, None, None))"
     ]
    }
   ],
   "source": [
    "def trading_job():\n",
    "    candle = get_candle(3)\n",
    "\n",
    "    new_df = pd.DataFrame({\n",
    "        'Open' : candle['open'][:3],\n",
    "        'Close' : candle['close'][:3],\n",
    "        'High' : candle['high'][:3],\n",
    "        'Low' : candle['low'][:3],\n",
    "    })\n",
    "\n",
    "    new_df['Open'] = new_df['Open'].astype(float)\n",
    "    new_df['Close'] = new_df['Close'].astype(float)\n",
    "    new_df['High'] = new_df['High'].astype(float)\n",
    "    new_df['Low'] = new_df['Low'].astype(float)\n",
    "\n",
    "    signal = signal_generator(new_df.iloc[1:,:])\n",
    "    \n",
    "    pnl_Ratio = 2\n",
    "    pre_candleR = abs(new_df['Open'].iloc[1]- new_df['Close'].iloc[1])\n",
    "\n",
    "    SLbuy = new_df['Open'].iloc[0] - pre_candleR\n",
    "    SLsell = new_df['Open'].iloc[0] + pre_candleR\n",
    "\n",
    "    TPbuy = new_df['Open'].iloc[0] + pre_candleR*pnl_Ratio\n",
    "    TPsell = new_df['Open'].iloc[0] - pre_candleR*pnl_Ratio\n",
    "\n",
    "    print(new_df[:-1,:])\n",
    "    print(TPbuy, \" \", SLbuy, \" \", TPsell, \" \", SLsell)\n",
    "trading_job()\n",
    "\n",
    "\n"
   ]
  }
 ],
 "metadata": {
  "kernelspec": {
   "display_name": "Python 3",
   "language": "python",
   "name": "python3"
  },
  "language_info": {
   "codemirror_mode": {
    "name": "ipython",
    "version": 3
   },
   "file_extension": ".py",
   "mimetype": "text/x-python",
   "name": "python",
   "nbconvert_exporter": "python",
   "pygments_lexer": "ipython3",
   "version": "3.13.5"
  }
 },
 "nbformat": 4,
 "nbformat_minor": 5
}
